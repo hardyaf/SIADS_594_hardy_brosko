{
 "cells": [
  {
   "cell_type": "code",
   "execution_count": 8,
   "metadata": {},
   "outputs": [
    {
     "name": "stderr",
     "output_type": "stream",
     "text": [
      "[nltk_data] Downloading package averaged_perceptron_tagger to\n",
      "[nltk_data]     C:\\Users\\afhar\\AppData\\Roaming\\nltk_data...\n",
      "[nltk_data]   Package averaged_perceptron_tagger is already up-to-\n",
      "[nltk_data]       date!\n"
     ]
    }
   ],
   "source": [
    "import pandas as pd\n",
    "import numpy as np\n",
    "import sys\n",
    "import os\n",
    "import gensim\n",
    "import spacy\n",
    "import altair as alt\n",
    "from hyphen import Hyphenator\n",
    "from gensim.parsing.preprocessing import preprocess_string, STOPWORDS \n",
    "from gensim.parsing.preprocessing import strip_tags\n",
    "from gensim.parsing.preprocessing import strip_punctuation\n",
    "from gensim.parsing.preprocessing import strip_multiple_whitespaces\n",
    "from gensim.parsing.preprocessing import stem_text\n",
    "from gensim.parsing.preprocessing import remove_stopwords\n",
    "from gensim.parsing.preprocessing import strip_numeric\n",
    "import nltk\n",
    "from nltk.tokenize import word_tokenize\n",
    "from nltk.tag import pos_tag\n",
    "from sklearn.metrics import accuracy_score\n",
    "import textstat\n",
    "from sklearn.model_selection import train_test_split\n",
    "from sklearn.neighbors import KNeighborsClassifier\n",
    "from sklearn.ensemble import RandomForestClassifier\n",
    "from sklearn import svm\n",
    "from sklearn.naive_bayes import GaussianNB\n",
    "from sklearn.preprocessing import StandardScaler\n",
    "from sklearn.model_selection import GridSearchCV\n",
    "from sklearn.metrics import confusion_matrix\n",
    "from sklearn.metrics import classification_report\n",
    "from sklearn.metrics import roc_auc_score\n",
    "from sklearn import metrics \n",
    "nltk.download('averaged_perceptron_tagger')\n",
    "cwd = os.getcwd()\n",
    "from sklearn.svm import SVC\n",
    "from operator import itemgetter\n",
    "from sklearn.utils import shuffle\n",
    "from sklearn.pipeline import Pipeline\n",
    "from sklearn.naive_bayes import MultinomialNB\n",
    "from sklearn.tree import DecisionTreeClassifier\n",
    "from sklearn.model_selection import GridSearchCV\n",
    "from sklearn.feature_extraction.text import TfidfVectorizer\n",
    "from sklearn.linear_model import SGDClassifier\n",
    "import operator\n",
    "import seaborn as sns"
   ]
  },
  {
   "cell_type": "code",
   "execution_count": 10,
   "metadata": {},
   "outputs": [
    {
     "data": {
      "image/png": "[encoded data removed]",
      "text/plain": [
       "<Figure size 551.375x432 with 1 Axes>"
      ]
     },
     "metadata": {
      "needs_background": "light"
     },
     "output_type": "display_data"
    }
   ],
   "source": [
    "l_names =[ 'feature-full',\n",
    "'feature-textstat',\n",
    "'feature-wordstat',\n",
    "'feature-basic',\n",
    "'feature-full',\n",
    "'feature-textstat',\n",
    "'feature-wordstat',\n",
    "'feature-basic',\n",
    "'feature-full',\n",
    "'feature-textstat',\n",
    "'feature-wordstat',\n",
    "'feature-basic',\n",
    "'feature-full',\n",
    "'feature-textstat',\n",
    "'feature-wordstat',\n",
    "'feature-basic',\n",
    "]          \n",
    "l_vals = [0.6192941382,\n",
    "0.6354574142,\n",
    "0.5926970785,\n",
    "0.5993863336,\n",
    "0.6694,\n",
    "0.6486,\n",
    "0.6472,\n",
    "0.6426,\n",
    "0.6622798726,\n",
    "0.6459493652,\n",
    "0.6314293193,\n",
    "0.623940262,\n",
    "0.7278854683,\n",
    "0.7011866157,\n",
    "0.705374671,\n",
    "0.6760437419]\n",
    "l_group = [ 'NB',\n",
    "'NB',\n",
    "'NB',\n",
    "'NB',\n",
    "'RF',\n",
    "'RF',\n",
    "'RF',\n",
    "'RF',\n",
    "'SVM',\n",
    "'SVM',\n",
    "'SVM',\n",
    "'SVM',\n",
    "'KNN',\n",
    "'KNN',\n",
    "'KNN',\n",
    "'KNN'\n",
    "]   \n",
    "df = pd.DataFrame()\n",
    "df['name'] = l_names\n",
    "df['vals'] = l_vals\n",
    "df['grp'] = l_group\n",
    "g = sns.catplot(\n",
    "    data=df, kind=\"bar\",\n",
    "    x=\"grp\", y=\"vals\", hue=\"name\",\n",
    "    ci=\"sd\", palette=\"dark\", alpha=.6, height=6\n",
    ")\n",
    "g.despine(left=True)\n",
    "g.set_axis_labels(\"\", \"Accuracy (%)\")\n",
    "g.legend.set_title(\"Model comparison\")"
   ]
  },
  {
   "cell_type": "code",
   "execution_count": null,
   "metadata": {},
   "outputs": [],
   "source": []
  }
 ],
 "metadata": {
  "kernelspec": {
   "display_name": "Python 3",
   "language": "python",
   "name": "python3"
  },
  "language_info": {
   "codemirror_mode": {
    "name": "ipython",
    "version": 3
   },
   "file_extension": ".py",
   "mimetype": "text/x-python",
   "name": "python",
   "nbconvert_exporter": "python",
   "pygments_lexer": "ipython3",
   "version": "3.7.9"
  }
 },
 "nbformat": 4,
 "nbformat_minor": 4
}
