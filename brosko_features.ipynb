{
 "cells": [
  {
   "cell_type": "code",
   "execution_count": 8,
   "metadata": {},
   "outputs": [
    {
     "name": "stderr",
     "output_type": "stream",
     "text": [
      "[nltk_data] Downloading package stopwords to\n",
      "[nltk_data]     C:\\Users\\afhar\\AppData\\Roaming\\nltk_data...\n",
      "[nltk_data]   Unzipping corpora\\stopwords.zip.\n"
     ]
    }
   ],
   "source": [
    "import pandas as pd\n",
    "import re\n",
    "from nltk.corpus import stopwords\n",
    "from sklearn.neighbors import KNeighborsClassifier\n",
    "from sklearn.ensemble import RandomForestClassifier\n",
    "import nltk\n",
    "nltk.download('stopwords')\n",
    "import numpy as np"
   ]
  },
  {
   "cell_type": "code",
   "execution_count": 3,
   "metadata": {},
   "outputs": [],
   "source": [
    "WikiLarge_Train = pd.read_csv('data\\WikiLarge_Train.csv').reset_index() \n",
    "WikiLarge_Test = pd.read_csv('data\\WikiLarge_Test.csv').reset_index() \n",
    "AoA_words = pd.read_csv('data\\AoA_51715_words.csv', encoding= 'unicode_escape')"
   ]
  },
  {
   "cell_type": "code",
   "execution_count": 12,
   "metadata": {},
   "outputs": [],
   "source": [
    "train_df1 = WikiLarge_Train\n",
    "train_df1[\"clean_text\"] = train_df1['original_text'].str.replace('[^\\w\\s]','')\n",
    "train_df1[\"clean_text\"] = train_df1[\"clean_text\"].str.lower().str.split()\n",
    "train_df1['word_count'] = [len(x) for x in train_df1['clean_text'].tolist()]\n",
    "\n",
    "stop = stopwords.words('english')\n",
    "train_df1[\"clean_text_no_stop\"] = train_df1['clean_text'].apply(lambda x: [item for item in x if item not in stop])\n",
    "train_df1['word_count_no_stop'] = [len(x) for x in train_df1['clean_text_no_stop'].tolist()]\n",
    "\n",
    "train_df2 = train_df1.explode('clean_text_no_stop')\n",
    "train_df2[\"Word\"] = train_df2['clean_text_no_stop']\n",
    "\n",
    "train_df3 = train_df2.merge(AoA_words, on='Word', how='left')\n",
    "\n",
    "train_AoA=train_df3.groupby('index').agg({'Nsyll':'mean', 'AoA_Kup_lem':'mean', 'Perc_known_lem':'mean'}).reset_index()\n",
    "\n",
    "train_df = train_df1.merge(train_AoA, on='index', how='left')\n",
    "train_df.to_pickle('brosko_train_f.pkl')\n",
    "X_train = train_df[['word_count_no_stop','Nsyll','AoA_Kup_lem','Perc_known_lem']]\n",
    "y_train = pd.Series(train_df['label'])\n",
    "X_train = X_train.replace(np.nan, 0)"
   ]
  },
  {
   "cell_type": "code",
   "execution_count": 13,
   "metadata": {},
   "outputs": [],
   "source": [
    "test_df1 = WikiLarge_Test\n",
    "test_df1[\"clean_text\"] = test_df1['original_text'].str.replace('[^\\w\\s]','')\n",
    "test_df1[\"clean_text\"] = test_df1[\"clean_text\"].str.lower().str.split()\n",
    "test_df1['word_count'] = [len(x) for x in test_df1['clean_text'].tolist()]\n",
    "\n",
    "stop = stopwords.words('english')\n",
    "test_df1[\"clean_text_no_stop\"] = test_df1['clean_text'].apply(lambda x: [item for item in x if item not in stop])\n",
    "test_df1['word_count_no_stop'] = [len(x) for x in test_df1['clean_text_no_stop'].tolist()]\n",
    "\n",
    "test_df2 = test_df1.explode('clean_text_no_stop')\n",
    "test_df2[\"Word\"] = test_df2['clean_text_no_stop']\n",
    "\n",
    "test_df3 = test_df2.merge(AoA_words, on='Word', how='left')\n",
    "\n",
    "test_AoA=test_df3.groupby('index').agg({'Nsyll':'mean', 'AoA_Kup_lem':'mean', 'Perc_known_lem':'mean'}).reset_index()\n",
    "\n",
    "test_df = test_df1.merge(test_AoA, on='index', how='left')\n",
    "test_df.to_pickle('brosko_test_f.pkl')\n",
    "\n",
    "X_test = test_df[['word_count_no_stop','Nsyll','AoA_Kup_lem','Perc_known_lem']]\n",
    "X_test = X_test.replace(np.nan, 0)"
   ]
  },
  {
   "cell_type": "code",
   "execution_count": 8,
   "metadata": {},
   "outputs": [],
   "source": [
    "knn = KNeighborsClassifier()\n",
    "knn.fit(X_train, y_train)\n",
    "\n",
    "knn_test = knn.predict(X_test)\n",
    "knn_df = pd.DataFrame(knn_test, columns = ['label'])\n",
    "knn_df.to_csv('knn.csv', index=True)"
   ]
  },
  {
   "cell_type": "code",
   "execution_count": 9,
   "metadata": {},
   "outputs": [],
   "source": [
    "rf = RandomForestClassifier(n_estimators=50, random_state=42)\n",
    "rf.fit(X_train, y_train)\n",
    "\n",
    "rf_test = rf.predict(X_test)\n",
    "rf_df = pd.DataFrame(rt_test, columns = ['label'])\n",
    "rf_df.to_csv('rf.csv', index=True)"
   ]
  },
  {
   "cell_type": "code",
   "execution_count": null,
   "metadata": {},
   "outputs": [],
   "source": []
  }
 ],
 "metadata": {
  "kernelspec": {
   "display_name": "Python 3",
   "language": "python",
   "name": "python3"
  },
  "language_info": {
   "codemirror_mode": {
    "name": "ipython",
    "version": 3
   },
   "file_extension": ".py",
   "mimetype": "text/x-python",
   "name": "python",
   "nbconvert_exporter": "python",
   "pygments_lexer": "ipython3",
   "version": "3.7.9"
  }
 },
 "nbformat": 4,
 "nbformat_minor": 4
}
